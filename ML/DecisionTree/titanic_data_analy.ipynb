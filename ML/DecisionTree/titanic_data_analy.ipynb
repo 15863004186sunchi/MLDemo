{
 "cells": [
  {
   "cell_type": "code",
   "execution_count": 1,
   "metadata": {
    "collapsed": false
   },
   "outputs": [
    {
     "name": "stdout",
     "output_type": "stream",
     "text": [
      "<class 'pandas.core.frame.DataFrame'>\nRangeIndex: 891 entries, 0 to 890\nData columns (total 12 columns):\nPassengerId    891 non-null int64\nSurvived       891 non-null int64\nPclass         891 non-null int64\nName           891 non-null object\nSex            891 non-null object\nAge            714 non-null float64\nSibSp          891 non-null int64\nParch          891 non-null int64\nTicket         891 non-null object\nFare           891 non-null float64\nCabin          204 non-null object\nEmbarked       889 non-null object\ndtypes: float64(2), int64(5), object(5)\nmemory usage: 83.6+ KB\nNone\n"
     ]
    }
   ],
   "source": [
    "import numpy as np\n",
    "import pandas as pd\n",
    "train = pd.read_csv(\"ML/data/Titanic/train.csv\")\n",
    "test = pd.read_csv(\"ML/data/Titanic/test.csv\")\n",
    "full_data = [train,test]\n",
    "print(train.info())"
   ]
  },
  {
   "cell_type": "code",
   "execution_count": 2,
   "metadata": {
    "collapsed": false
   },
   "outputs": [
    {
     "name": "stdout",
     "output_type": "stream",
     "text": [
      "1    216\n2    184\n3    491\nName: Pclass, dtype: int64\n   Pclass  Survived\n0       1  0.629630\n1       2  0.472826\n2       3  0.242363\n"
     ]
    }
   ],
   "source": [
    "\n",
    "print (train['Pclass'].value_counts(sort=False).sort_index())\n",
    "print train[['Pclass','Survived']].groupby('Pclass',as_index=False).mean()"
   ]
  },
  {
   "cell_type": "code",
   "execution_count": 3,
   "metadata": {
    "collapsed": false
   },
   "outputs": [
    {
     "name": "stdout",
     "output_type": "stream",
     "text": [
      "female    314\nmale      577\nName: Sex, dtype: int64\n      Sex  Survived\n0  female  0.742038\n1    male  0.188908\n"
     ]
    }
   ],
   "source": [
    "\n",
    "print (train['Sex'].value_counts(sort=False).sort_index())\n",
    "print train[['Sex','Survived']].groupby('Sex',as_index=False).mean()"
   ]
  },
  {
   "cell_type": "code",
   "execution_count": 4,
   "metadata": {
    "collapsed": false
   },
   "outputs": [
    {
     "name": "stderr",
     "output_type": "stream",
     "text": [
      "/Users/jian/anaconda2/lib/python2.7/site-packages/ipykernel_launcher.py:8: SettingWithCopyWarning: \nA value is trying to be set on a copy of a slice from a DataFrame\n\nSee the caveats in the documentation: http://pandas.pydata.org/pandas-docs/stable/indexing.html#indexing-view-versus-copy\n  \n"
     ]
    }
   ],
   "source": [
    "for dataset in full_data:\n",
    "    age_avg = dataset['Age'].mean()\n",
    "    age_std = dataset['Age'].std()\n",
    "    \n",
    "    age_null_count = dataset['Age'].isnull().sum()\n",
    "    age_default_list = np.random.randint(low=age_avg-age_std,high=age_avg+age_std,size=age_null_count,)\n",
    "    \n",
    "    dataset['Age'][np.isnan(dataset['Age'])] = age_default_list\n",
    "    dataset['Age'] = dataset['Age'].astype(int)\n",
    "\n"
   ]
  },
  {
   "cell_type": "code",
   "execution_count": 5,
   "metadata": {},
   "outputs": [
    {
     "name": "stdout",
     "output_type": "stream",
     "text": [
      "  CategoricalAge  Survived\n0  (-0.08, 16.0]  0.540541\n1   (16.0, 32.0]  0.362187\n2   (32.0, 48.0]  0.352490\n3   (48.0, 64.0]  0.434783\n4   (64.0, 80.0]  0.090909\n"
     ]
    }
   ],
   "source": [
    "train['CategoricalAge'] = pd.cut(train['Age'], 5)\n",
    "print (train[['CategoricalAge', 'Survived']].groupby(['CategoricalAge'], as_index=False).mean())\n"
   ]
  },
  {
   "cell_type": "code",
   "execution_count": 6,
   "metadata": {},
   "outputs": [
    {
     "name": "stdout",
     "output_type": "stream",
     "text": [
      "0    608\n1    209\n2     28\n3     16\n4     18\n5      5\n8      7\nName: SibSp, dtype: int64\n   SibSp  Survived\n0      0  0.345395\n1      1  0.535885\n2      2  0.464286\n3      3  0.250000\n4      4  0.166667\n5      5  0.000000\n6      8  0.000000\n"
     ]
    }
   ],
   "source": [
    "\n",
    "print (train['SibSp'].value_counts(sort=False).sort_index())\n",
    "print train[['SibSp','Survived']].groupby('SibSp',as_index=False).mean()"
   ]
  },
  {
   "cell_type": "code",
   "execution_count": 7,
   "metadata": {},
   "outputs": [
    {
     "name": "stdout",
     "output_type": "stream",
     "text": [
      "0    678\n1    118\n2     80\n3      5\n4      4\n5      5\n6      1\nName: Parch, dtype: int64\n   Parch  Survived\n0      0  0.343658\n1      1  0.550847\n2      2  0.500000\n3      3  0.600000\n4      4  0.000000\n5      5  0.200000\n6      6  0.000000\n"
     ]
    }
   ],
   "source": [
    "\n",
    "print (train['Parch'].value_counts(sort=False).sort_index())\n",
    "print train[['Parch','Survived']].groupby('Parch',as_index=False).mean()"
   ]
  },
  {
   "cell_type": "code",
   "execution_count": 8,
   "metadata": {},
   "outputs": [
    {
     "name": "stdout",
     "output_type": "stream",
     "text": [
      "   FamilySize  Survived\n0           1  0.303538\n1           2  0.552795\n2           3  0.578431\n3           4  0.724138\n4           5  0.200000\n5           6  0.136364\n6           7  0.333333\n7           8  0.000000\n8          11  0.000000\n"
     ]
    }
   ],
   "source": [
    "for dataset in full_data:\n",
    "    dataset['FamilySize'] = dataset['SibSp'] + dataset['Parch'] + 1\n",
    "print (train[['FamilySize', 'Survived']].groupby(['FamilySize'], as_index=False).mean())"
   ]
  },
  {
   "cell_type": "code",
   "execution_count": 9,
   "metadata": {},
   "outputs": [
    {
     "name": "stdout",
     "output_type": "stream",
     "text": [
      "     CategoricalFare  Survived\n0    (-0.001, 7.775]  0.205128\n1     (7.775, 8.662]  0.190789\n2    (8.662, 14.454]  0.366906\n3     (14.454, 26.0]  0.436242\n4     (26.0, 52.369]  0.417808\n5  (52.369, 512.329]  0.697987\n"
     ]
    }
   ],
   "source": [
    "for dataset in full_data:\n",
    "    dataset['Fare'] = dataset['Fare'].fillna(train['Fare'].median())\n",
    "train['CategoricalFare'] = pd.qcut(train['Fare'],6)\n",
    "print (train[['CategoricalFare', 'Survived']].groupby(['CategoricalFare'], as_index=False).mean())"
   ]
  },
  {
   "cell_type": "code",
   "execution_count": 10,
   "metadata": {},
   "outputs": [
    {
     "name": "stdout",
     "output_type": "stream",
     "text": [
      "C    168\nQ     77\nS    644\nName: Embarked, dtype: int64\n"
     ]
    }
   ],
   "source": [
    "\n",
    "print (train['Embarked'].value_counts(sort=False).sort_index())"
   ]
  },
  {
   "cell_type": "code",
   "execution_count": 11,
   "metadata": {},
   "outputs": [
    {
     "name": "stdout",
     "output_type": "stream",
     "text": [
      "C    168\nQ     77\nS    646\nName: Embarked, dtype: int64\n"
     ]
    }
   ],
   "source": [
    "for data in full_data:\n",
    "    data['Embarked'] = data['Embarked'].fillna('S')\n",
    "print (train['Embarked'].value_counts(sort=False).sort_index())"
   ]
  },
  {
   "cell_type": "code",
   "execution_count": 12,
   "metadata": {},
   "outputs": [
    {
     "name": "stdout",
     "output_type": "stream",
     "text": [
      "  Embarked  Survived\n0        C  0.553571\n1        Q  0.389610\n2        S  0.339009\n"
     ]
    }
   ],
   "source": [
    "print (train[['Embarked', 'Survived']].groupby(['Embarked'], as_index=False).mean())"
   ]
  },
  {
   "cell_type": "code",
   "execution_count": 13,
   "metadata": {},
   "outputs": [
    {
     "name": "stdout",
     "output_type": "stream",
     "text": [
      "Sex        female  male\nTitleName              \nCapt            0     1\nCol             0     2\nCountess        1     0\nDon             0     1\nDr              1     6\nJonkheer        0     1\nLady            1     0\nMajor           0     2\nMaster          0    40\nMiss          182     0\nMlle            2     0\nMme             1     0\nMr              0   517\nMrs           125     0\nMs              1     0\nRev             0     6\nSir             0     1\n"
     ]
    }
   ],
   "source": [
    "\n",
    "import re\n",
    "def get_title_name(name):\n",
    "    title_s = re.search(' ([A-Za-z]+)\\.', name)\n",
    "    if title_s:\n",
    "        return title_s.group(1)\n",
    "    return \"\"\n",
    "for dataset in full_data:\n",
    "    dataset['TitleName'] = dataset['Name'].apply(get_title_name)\n",
    "print(pd.crosstab(train['TitleName'],train['Sex']))"
   ]
  },
  {
   "cell_type": "code",
   "execution_count": 14,
   "metadata": {},
   "outputs": [
    {
     "name": "stdout",
     "output_type": "stream",
     "text": [
      "  TitleName  Survived\n0    Master  0.575000\n1      Miss  0.702703\n2        Mr  0.156673\n3       Mrs  0.793651\n4     Other  0.347826\n"
     ]
    }
   ],
   "source": [
    "train['TitleName'] = train['TitleName'].replace('Mme', 'Mrs')\n",
    "train['TitleName'] = train['TitleName'].replace('Mlle', 'Miss')\n",
    "train['TitleName'] = train['TitleName'].replace('Ms', 'Miss')\n",
    "train['TitleName'] = train['TitleName'].replace(['Lady', 'Countess','Capt', 'Col',\\\n",
    "     'Don', 'Dr', 'Major', 'Rev', 'Sir', 'Jonkheer', 'Dona'], 'Other')\n",
    "print (train[['TitleName', 'Survived']].groupby(['TitleName'], as_index=False).mean())"
   ]
  },
  {
   "cell_type": "code",
   "execution_count": null,
   "metadata": {},
   "outputs": [
    {
     "name": "stdout",
     "output_type": "stream",
     "text": [
      "   IsAlone  Survived\n0        0  0.505650\n1        1  0.303538\n"
     ]
    }
   ],
   "source": [
    "train['IsAlone'] = 0\n",
    "train.loc[train['FamilySize']==1,'IsAlone'] = 1\n",
    "print (train[['IsAlone', 'Survived']].groupby(['IsAlone'], as_index=False).mean())"
   ]
  },
  {
   "cell_type": "code",
   "execution_count": null,
   "metadata": {},
   "outputs": [],
   "source": []
  }
 ],
 "metadata": {
  "kernelspec": {
   "display_name": "Python 2",
   "language": "python",
   "name": "python2"
  },
  "language_info": {
   "codemirror_mode": {
    "name": "ipython",
    "version": 2
   },
   "file_extension": ".py",
   "mimetype": "text/x-python",
   "name": "python",
   "nbconvert_exporter": "python",
   "pygments_lexer": "ipython2",
   "version": "2.7.6"
  }
 },
 "nbformat": 4,
 "nbformat_minor": 0
}
